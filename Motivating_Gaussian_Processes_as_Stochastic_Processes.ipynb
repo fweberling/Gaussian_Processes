{
  "nbformat": 4,
  "nbformat_minor": 0,
  "metadata": {
    "colab": {
      "name": "Motivating_Gaussian_Processes_as_stochastic_processes.ipynb",
      "provenance": [],
      "authorship_tag": "ABX9TyMfCF7T0ksM7PLVTrycxm34",
      "include_colab_link": true
    },
    "kernelspec": {
      "name": "python3",
      "display_name": "Python 3"
    }
  },
  "cells": [
    {
      "cell_type": "markdown",
      "metadata": {
        "id": "view-in-github",
        "colab_type": "text"
      },
      "source": [
        "<a href=\"https://colab.research.google.com/github/fweberling/Gaussian_Processes/blob/master/Motivating_Gaussian_Processes_as_Stochastic_Processes.ipynb\" target=\"_parent\"><img src=\"https://colab.research.google.com/assets/colab-badge.svg\" alt=\"Open In Colab\"/></a>"
      ]
    },
    {
      "cell_type": "markdown",
      "metadata": {
        "id": "oIBQOBk2Gcxf"
      },
      "source": [
        "This notebook is work in progress"
      ]
    },
    {
      "cell_type": "code",
      "metadata": {
        "id": "x0HMljdkF3TW"
      },
      "source": [
        "import numpy as np\n",
        "import matplotlib\n",
        "import matplotlib.pyplot as plt\n",
        "from numpy.linalg import inv\n",
        "import seaborn as sns"
      ],
      "execution_count": 1,
      "outputs": []
    },
    {
      "cell_type": "markdown",
      "metadata": {
        "id": "nd1y4XWnLQeB"
      },
      "source": [
        "# Covariance Functions\n",
        "\n",
        "Squared exponential \n",
        "\n",
        "\\begin{equation}\n",
        "k\\left(x_p, x_q \\right) = \\sigma_f^2 \\mathrm{exp}\\left(- \\frac{1}{2l^2} \\left(x_p - x_q\\right)^2 \\right)\n",
        "\\end{equation}"
      ]
    },
    {
      "cell_type": "code",
      "metadata": {
        "id": "9xLVubM3Gk-O"
      },
      "source": [
        "# Squared exponential covariance function (kernel)\n",
        "\n",
        "def squared_exponential(X_p, X_q, sigma_f = 1.0, l = 1.0, visualize = False):\n",
        "    \"\"\"\"\n",
        "    Squared-exponential covariance function calculating the covariance matrix\n",
        "    \n",
        "    X_p is (m x n) matrix\n",
        "    \"\"\"\n",
        "\n",
        "    squared_dist = np.sum(X_p**2, 1).reshape(-1, 1) - 2 * X_p @ X_q.T + np.sum(X_q**2, 1)\n",
        "\n",
        "    covariance_matrix = sigma_f**2 * np.exp(-1/(2 * l**2) * squared_dist)\n",
        "\n",
        "    if visualize == True:\n",
        "      sns.heatmap(covariance_matrix)\n",
        "    \n",
        "    return covariance_matrix"
      ],
      "execution_count": 2,
      "outputs": []
    },
    {
      "cell_type": "markdown",
      "metadata": {
        "id": "auzOHrT7La2E"
      },
      "source": [
        "Brownian motion\n",
        "\n",
        "\\begin{equation}\n",
        "k \\left(x_p, x_q \\right) = \\mathrm{min}\\left(x_p, x_q\\right)\n",
        "\\end{equation}"
      ]
    },
    {
      "cell_type": "code",
      "metadata": {
        "id": "JrFCY3ztIuuC"
      },
      "source": [
        "# Brownian motion\n",
        "\n",
        "def brownian_motion(X_p, X_q, visualize = False):\n",
        "  \"\"\"\n",
        "  Brownian motion\n",
        "  \"\"\"\n",
        "  covariance_matrix = np.minimum(X_p,X_q.T)\n",
        "\n",
        "  if visualize == True:\n",
        "      sns.heatmap(covariance_matrix)\n",
        "\n",
        "  return covariance_matrix"
      ],
      "execution_count": 3,
      "outputs": []
    },
    {
      "cell_type": "markdown",
      "metadata": {
        "id": "YtMm6olROX75"
      },
      "source": [
        "# Stochastic Process"
      ]
    },
    {
      "cell_type": "code",
      "metadata": {
        "id": "JH0EkRtsG8Ec"
      },
      "source": [
        "def stochastic_process(mean_function, covariance_function, num_samples, dim_sample):\n",
        "  \"\"\"\n",
        "  Stochastic process with Gaussian finite dimensional distributions\n",
        "  \"\"\"\n",
        "  X_test = np.linspace(1, dim_sample, dim_sample).reshape(dim_sample, 1)\n",
        "  covariance_matrix = covariance_function(X_test, X_test)\n",
        "  mean = mean_function\n",
        "  samples = np.random.multivariate_normal(mean, covariance_matrix,num_samples)\n",
        "\n",
        "  # Plotting samples\n",
        "  fig, ax = plt.subplots(figsize=(6, 4), tight_layout=True)\n",
        "  ax.plot(X_test, samples.T,'-x', label = 'sample')\n",
        "  ax.legend(loc = 'lower left')\n",
        "  plt.xticks(np.arange(1,dim_sample+1, 1))\n",
        "  plt.title('Samples')\n",
        "  plt.show()"
      ],
      "execution_count": 4,
      "outputs": []
    }
  ]
}