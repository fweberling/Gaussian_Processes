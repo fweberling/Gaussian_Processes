{
  "nbformat": 4,
  "nbformat_minor": 0,
  "metadata": {
    "colab": {
      "name": "Motivating_Gaussian_Processes_as_stochastic_processes.ipynb",
      "provenance": [],
      "authorship_tag": "ABX9TyNpy/Li3zrOrnOSqQU3pXHT",
      "include_colab_link": true
    },
    "kernelspec": {
      "name": "python3",
      "display_name": "Python 3"
    }
  },
  "cells": [
    {
      "cell_type": "markdown",
      "metadata": {
        "id": "view-in-github",
        "colab_type": "text"
      },
      "source": [
        "<a href=\"https://colab.research.google.com/github/fweberling/Gaussian_Processes/blob/master/Motivating_Gaussian_Processes_as_Stochastic_Processes.ipynb\" target=\"_parent\"><img src=\"https://colab.research.google.com/assets/colab-badge.svg\" alt=\"Open In Colab\"/></a>"
      ]
    },
    {
      "cell_type": "markdown",
      "metadata": {
        "id": "oIBQOBk2Gcxf"
      },
      "source": [
        "This notebook is work in progress"
      ]
    },
    {
      "cell_type": "code",
      "metadata": {
        "id": "x0HMljdkF3TW"
      },
      "source": [
        "import numpy as np\n",
        "import matplotlib\n",
        "import matplotlib.pyplot as plt\n",
        "from numpy.linalg import inv"
      ],
      "execution_count": 1,
      "outputs": []
    },
    {
      "cell_type": "code",
      "metadata": {
        "id": "9xLVubM3Gk-O"
      },
      "source": [
        "# Squared exponential covariance function (kernel)\n",
        "\n",
        "def squared_exponential(X_p, X_q, sigma_f = 1.0, l = 1.0):\n",
        "    \"\"\"\"\n",
        "    Squared-exponential covariance function calculating the covariance matrix\n",
        "    \n",
        "    X_p is (m x n) matrix\n",
        "    \"\"\"\n",
        "\n",
        "    squared_dist = np.sum(X_p**2, 1).reshape(-1, 1) - 2 * X_p @ X_q.T + np.sum(X_q**2, 1)\n",
        "    \n",
        "    return sigma_f**2 * np.exp(-1/(2 * l**2) * squared_dist)"
      ],
      "execution_count": 3,
      "outputs": []
    },
    {
      "cell_type": "code",
      "metadata": {
        "id": "JH0EkRtsG8Ec"
      },
      "source": [
        ""
      ],
      "execution_count": null,
      "outputs": []
    }
  ]
}